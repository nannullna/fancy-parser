{
 "cells": [
  {
   "cell_type": "code",
   "execution_count": 1,
   "metadata": {},
   "outputs": [],
   "source": [
    "from src.fancy_parser import FancyParser\n",
    "from dataclasses import dataclass, field\n",
    "from typing import Optional, Union, List\n",
    "\n",
    "@dataclass\n",
    "class TrainingArgs:\n",
    "    \"\"\"Training arguments.\"\"\"\n",
    "    epochs: int = field(default=10, metadata={'help': 'Number of epochs to train for.'})\n",
    "    batch_size: int = field(default=32, metadata={'help': 'Batch size for training.'})\n",
    "    optimizer: str = field(default='sgd', metadata={'help': 'Optimizer to use.', 'choices': ['sgd', 'adam', 'rmsprop', 'adamw']})\n",
    "    save_every: Optional[int] = field(default=None, metadata={'help': 'Save model every n epochs.'})\n",
    "\n",
    "@dataclass\n",
    "class ModelArgs:\n",
    "    \"\"\"Model arguments.\"\"\"\n",
    "    hidden_dims: List[int] = field(default_factory=lambda: [128, 64], metadata={'help': 'Hidden layer sizes.'})\n",
    "    dropout: float = field(default=0.1, metadata={'help': 'Dropout rate.'})\n",
    "    activation: str = field(default='relu', metadata={'help': 'Activation function.', 'choices': ['relu', 'sigmoid', 'tanh']})\n"
   ]
  },
  {
   "cell_type": "code",
   "execution_count": 2,
   "metadata": {},
   "outputs": [],
   "source": [
    "parser = FancyParser([TrainingArgs, ModelArgs])\n",
    "parser.set_defaults(epochs=20, batch_size=64, optimizer='adam', dropout=0.2, activation='tanh')"
   ]
  },
  {
   "cell_type": "code",
   "execution_count": 5,
   "metadata": {},
   "outputs": [
    {
     "name": "stdout",
     "output_type": "stream",
     "text": [
      "Namespace(config=None, epochs='30', batch_size='128', optimizer='adamw', save_every=None, hidden_dims=[128, 64], dropout='0.1', activation='tanh')\n"
     ]
    },
    {
     "ename": "ValueError",
     "evalue": "Unused arguments: ['--ip', '120.242.23.12']",
     "output_type": "error",
     "traceback": [
      "\u001b[0;31m---------------------------------------------------------------------------\u001b[0m",
      "\u001b[0;31mValueError\u001b[0m                                Traceback (most recent call last)",
      "Cell \u001b[0;32mIn[5], line 2\u001b[0m\n\u001b[1;32m      1\u001b[0m args \u001b[39m=\u001b[39m \u001b[39m\"\u001b[39m\u001b[39m--epochs 30 --batch_size 128 --optimizer adamw --dropout 0.1 --activation tanh --ip 120.242.23.12\u001b[39m\u001b[39m\"\u001b[39m\u001b[39m.\u001b[39msplit()\n\u001b[0;32m----> 2\u001b[0m training_args, model_args \u001b[39m=\u001b[39m parser\u001b[39m.\u001b[39;49mparse_args_into_dataclasses(args\u001b[39m=\u001b[39;49margs)\n\u001b[1;32m      3\u001b[0m \u001b[39mprint\u001b[39m(training_args)\n\u001b[1;32m      4\u001b[0m \u001b[39mprint\u001b[39m(model_args)\n",
      "File \u001b[0;32m~/Projects/fancy-parser/src/fancy_parser.py:232\u001b[0m, in \u001b[0;36mFancyParser.parse_args_into_dataclasses\u001b[0;34m(self, args, return_remaining_args)\u001b[0m\n\u001b[1;32m    230\u001b[0m \u001b[39melse\u001b[39;00m:\n\u001b[1;32m    231\u001b[0m     \u001b[39mif\u001b[39;00m remaining_args:\n\u001b[0;32m--> 232\u001b[0m         \u001b[39mraise\u001b[39;00m \u001b[39mValueError\u001b[39;00m(\u001b[39mf\u001b[39m\u001b[39m'\u001b[39m\u001b[39mUnused arguments: \u001b[39m\u001b[39m{\u001b[39;00mremaining_args\u001b[39m}\u001b[39;00m\u001b[39m'\u001b[39m)\n\u001b[1;32m    233\u001b[0m     \u001b[39mreturn\u001b[39;00m (\u001b[39m*\u001b[39moutputs,)\n",
      "\u001b[0;31mValueError\u001b[0m: Unused arguments: ['--ip', '120.242.23.12']"
     ]
    }
   ],
   "source": [
    "args = \"--epochs 30 --batch_size 128 --optimizer adamw --dropout 0.1 --activation tanh --ip 120.242.23.12\".split()\n",
    "training_args, model_args = parser.parse_args_into_dataclasses(args=args)\n",
    "print(training_args)\n",
    "print(model_args)"
   ]
  },
  {
   "cell_type": "code",
   "execution_count": null,
   "metadata": {},
   "outputs": [],
   "source": []
  }
 ],
 "metadata": {
  "kernelspec": {
   "display_name": "torch-diff",
   "language": "python",
   "name": "python3"
  },
  "language_info": {
   "codemirror_mode": {
    "name": "ipython",
    "version": 3
   },
   "file_extension": ".py",
   "mimetype": "text/x-python",
   "name": "python",
   "nbconvert_exporter": "python",
   "pygments_lexer": "ipython3",
   "version": "3.10.11"
  },
  "orig_nbformat": 4
 },
 "nbformat": 4,
 "nbformat_minor": 2
}
